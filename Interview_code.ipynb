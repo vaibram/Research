{
  "nbformat": 4,
  "nbformat_minor": 0,
  "metadata": {
    "colab": {
      "name": "Interview code.ipynb",
      "provenance": [],
      "authorship_tag": "ABX9TyNBlHYaavwnoX8DajQNITHR",
      "include_colab_link": true
    },
    "kernelspec": {
      "name": "python3",
      "display_name": "Python 3"
    },
    "language_info": {
      "name": "python"
    }
  },
  "cells": [
    {
      "cell_type": "markdown",
      "metadata": {
        "id": "view-in-github",
        "colab_type": "text"
      },
      "source": [
        "<a href=\"https://colab.research.google.com/github/vaibram/Research/blob/main/Interview_code.ipynb\" target=\"_parent\"><img src=\"https://colab.research.google.com/assets/colab-badge.svg\" alt=\"Open In Colab\"/></a>"
      ]
    },
    {
      "cell_type": "code",
      "metadata": {
        "colab": {
          "base_uri": "https://localhost:8080/"
        },
        "id": "_AWR6DVJVhgA",
        "outputId": "4e355087-bfdd-46af-ee0d-4014e2355b50"
      },
      "source": [
        "pip install pillow"
      ],
      "execution_count": null,
      "outputs": [
        {
          "output_type": "stream",
          "name": "stdout",
          "text": [
            "Requirement already satisfied: pillow in /usr/local/lib/python3.7/dist-packages (8.4.0)\n"
          ]
        }
      ]
    },
    {
      "cell_type": "code",
      "metadata": {
        "id": "2Fry1OJMYqg4"
      },
      "source": [
        "from PIL import Image, ImageFilter"
      ],
      "execution_count": null,
      "outputs": []
    },
    {
      "cell_type": "code",
      "metadata": {
        "colab": {
          "base_uri": "https://localhost:8080/"
        },
        "id": "DtG7yxwgakPL",
        "outputId": "b62f4b2d-94e6-4473-86c4-f28197817653"
      },
      "source": [
        "image_input=Image.open('/content/necklace (1).png')\n",
        "print(image_input.format,image_input.size,image_input.mode)"
      ],
      "execution_count": null,
      "outputs": [
        {
          "output_type": "stream",
          "name": "stdout",
          "text": [
            "PNG (676, 998) RGBA\n"
          ]
        }
      ]
    },
    {
      "cell_type": "code",
      "metadata": {
        "colab": {
          "base_uri": "https://localhost:8080/"
        },
        "id": "P3OFa7_tbJ6g",
        "outputId": "6c7e3527-7106-49c7-85d9-b5cfe4578df9"
      },
      "source": [
        "print(image_input.getextrema())"
      ],
      "execution_count": null,
      "outputs": [
        {
          "output_type": "stream",
          "name": "stdout",
          "text": [
            "((0, 255), (0, 255), (0, 255), (0, 255))\n"
          ]
        }
      ]
    },
    {
      "cell_type": "code",
      "metadata": {
        "id": "Rhk5BcwQbctB"
      },
      "source": [
        "from PIL import Image,ImageDraw\n",
        "image_rgb = image_input.copy()\n",
        "image_rgb.putalpha(120)\n",
        "image_rgb.save('/content/necklacerr (1).png')"
      ],
      "execution_count": null,
      "outputs": []
    },
    {
      "cell_type": "code",
      "metadata": {
        "id": "Ylhqw05Gc7dR"
      },
      "source": [
        "image_2=Image.new(\"L\",image_rgb.size,0)\n",
        "draw = ImageDraw.Draw(image_2)\n",
        "draw.rectangle((0,998,676,273),fill=225)\n",
        "image_2_blur=image_2.filter(ImageFilter.GaussianBlur(6))\n",
        "image_2_blur.save('/content/rectangle (1).png')"
      ],
      "execution_count": null,
      "outputs": []
    },
    {
      "cell_type": "code",
      "metadata": {
        "id": "dJ7pu4YjlvhG"
      },
      "source": [
        "im_rgb=image_input.copy()\n",
        "image_rgb.putalpha(image_2_blur)\n",
        "image_rgb.save('/content/necklacewithfade (1).png')"
      ],
      "execution_count": null,
      "outputs": []
    },
    {
      "cell_type": "code",
      "metadata": {
        "colab": {
          "base_uri": "https://localhost:8080/"
        },
        "id": "F-vAIb8VVwdT",
        "outputId": "e5fcd2af-987b-4962-f57b-b35529f243cd"
      },
      "source": [
        "print(image_rgb.size)"
      ],
      "execution_count": null,
      "outputs": [
        {
          "output_type": "stream",
          "name": "stdout",
          "text": [
            "(676, 998)\n"
          ]
        }
      ]
    }
  ]
}
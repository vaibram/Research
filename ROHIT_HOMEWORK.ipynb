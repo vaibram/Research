{
  "nbformat": 4,
  "nbformat_minor": 0,
  "metadata": {
    "colab": {
      "provenance": [],
      "authorship_tag": "ABX9TyMcL/9XNPO72sw3XMUhH3gJ",
      "include_colab_link": true
    },
    "kernelspec": {
      "name": "python3",
      "display_name": "Python 3"
    },
    "language_info": {
      "name": "python"
    }
  },
  "cells": [
    {
      "cell_type": "markdown",
      "metadata": {
        "id": "view-in-github",
        "colab_type": "text"
      },
      "source": [
        "<a href=\"https://colab.research.google.com/github/vaibram/Research/blob/main/ROHIT_HOMEWORK.ipynb\" target=\"_parent\"><img src=\"https://colab.research.google.com/assets/colab-badge.svg\" alt=\"Open In Colab\"/></a>"
      ]
    },
    {
      "cell_type": "code",
      "execution_count": 6,
      "metadata": {
        "colab": {
          "base_uri": "https://localhost:8080/",
          "height": 1000
        },
        "id": "14NDVbyFJDQs",
        "outputId": "5b1b9aab-3028-4e37-e389-ba3b9f3169c9"
      },
      "outputs": [
        {
          "output_type": "stream",
          "name": "stdout",
          "text": [
            "/content/sample_data/PROCESSS.txt\n",
            "Table output:\n",
            "    SKU  Current Price  Sales  Return  Loss  Stocks\n",
            "0     1          14.99     15       1     0      75\n",
            "1     2           4.97      4       2     0      40\n",
            "2     3           5.97      5       5     1      20\n",
            "3     4           7.97      4       2     2      30\n",
            "4     5           6.97      5       5     5      46\n",
            "5     6           5.97      7       4     6      70\n",
            "6     7           4.00      8       3     7      50\n",
            "7     8           8.97      9       8     0      30\n",
            "8     9           6.97      6       7     0      20\n",
            "9    10           2.97      2       6     3      10\n",
            "10   11           4.70      1       5     4      40\n",
            "11   12           4.90      6       4     5      40\n",
            "\n",
            "Data Description:\n",
            "             SKU  Current Price      Sales     Return       Loss     Stocks\n",
            "count  12.000000      12.000000  12.000000  12.000000  12.000000  12.000000\n",
            "mean    6.500000       6.612500   6.000000   4.333333   2.750000  39.250000\n",
            "std     3.605551       3.134057   3.643175   2.103388   2.598076  19.433453\n",
            "min     1.000000       2.970000   1.000000   1.000000   0.000000  10.000000\n",
            "25%     3.750000       4.850000   4.000000   2.750000   0.000000  27.500000\n",
            "50%     6.500000       5.970000   5.500000   4.500000   2.500000  40.000000\n",
            "75%     9.250000       7.220000   7.250000   5.250000   5.000000  47.000000\n",
            "max    12.000000      14.990000  15.000000   8.000000   7.000000  75.000000\n",
            "\n",
            "Stats Model Summary:\n",
            "                            OLS Regression Results                            \n",
            "==============================================================================\n",
            "Dep. Variable:                  Sales   R-squared:                       0.654\n",
            "Model:                            OLS   Adj. R-squared:                  0.620\n",
            "Method:                 Least Squares   F-statistic:                     18.92\n",
            "Date:                Tue, 13 Dec 2022   Prob (F-statistic):            0.00144\n",
            "Time:                        17:39:58   Log-Likelihood:                -25.647\n",
            "No. Observations:                  12   AIC:                             55.29\n",
            "Df Residuals:                      10   BIC:                             56.26\n",
            "Df Model:                           1                                         \n",
            "Covariance Type:            nonrobust                                         \n",
            "=================================================================================\n",
            "                    coef    std err          t      P>|t|      [0.025      0.975]\n",
            "---------------------------------------------------------------------------------\n",
            "const            -0.2174      1.570     -0.139      0.893      -3.715       3.280\n",
            "Current Price     0.9403      0.216      4.350      0.001       0.459       1.422\n",
            "==============================================================================\n",
            "Omnibus:                        0.836   Durbin-Watson:                   1.509\n",
            "Prob(Omnibus):                  0.658   Jarque-Bera (JB):                0.146\n",
            "Skew:                           0.270   Prob(JB):                        0.930\n",
            "Kurtosis:                       2.983   Cond. No.                         17.8\n",
            "==============================================================================\n",
            "\n",
            "Notes:\n",
            "[1] Standard Errors assume that the covariance matrix of the errors is correctly specified.\n",
            "Linear Regression output\n",
            "Coeff = [0.94025268]\n",
            "Intercept = -0.21742082091860926\n",
            "R^2 = 0.6542484203300324\n",
            "Root MSE = 2.051010536130407\n",
            "\n",
            "\n",
            "Scatter Plot:\n"
          ]
        },
        {
          "output_type": "stream",
          "name": "stderr",
          "text": [
            "/usr/local/lib/python3.8/dist-packages/statsmodels/tsa/tsatools.py:142: FutureWarning: In a future version of pandas all arguments of concat except for the argument 'objs' will be keyword-only\n",
            "  x = pd.concat(x[::order], 1)\n",
            "/usr/local/lib/python3.8/dist-packages/scipy/stats/stats.py:1541: UserWarning: kurtosistest only valid for n>=20 ... continuing anyway, n=12\n",
            "  warnings.warn(\"kurtosistest only valid for n>=20 ... continuing \"\n"
          ]
        },
        {
          "output_type": "display_data",
          "data": {
            "text/plain": [
              "<Figure size 432x288 with 1 Axes>"
            ],
            "image/png": "[encoded data removed]"
          },
          "metadata": {
            "needs_background": "light"
          }
        },
        {
          "output_type": "stream",
          "name": "stdout",
          "text": [
            "\n",
            "Bar Graph:\n"
          ]
        },
        {
          "output_type": "display_data",
          "data": {
            "text/plain": [
              "<Figure size 432x288 with 1 Axes>"
            ],
            "image/png": "[encoded data removed]"
          },
          "metadata": {
            "needs_background": "light"
          }
        },
        {
          "output_type": "stream",
          "name": "stdout",
          "text": [
            "Line Plot:\n"
          ]
        },
        {
          "output_type": "display_data",
          "data": {
            "text/plain": [
              "<Figure size 432x288 with 1 Axes>"
            ],
            "image/png": "[encoded data removed]"
          },
          "metadata": {
            "needs_background": "light"
          }
        }
      ],
      "source": [
        "import pandas as pd\n",
        "import math\n",
        "import matplotlib.pyplot as plt\n",
        "from sklearn.linear_model import LinearRegression\n",
        "from sklearn import metrics\n",
        "import statsmodels.api as sm\n",
        "import matplotlib.patches as mpatches\n",
        "from sklearn import datasets\n",
        "#Taking Input of the file path from the user to be analysed\n",
        "#File can be of any type xlsx,csv or typed format (if condition given for that)\n",
        "address = input(\"\")\n",
        "if \"xlsx\" in address:\n",
        "  df = pd.read_excel(address)\n",
        "elif \"txt\" in address:\n",
        "  df = pd.read_csv(address, names=['SKU','Current Price','Sales','Return','Loss','Stocks'], header = 2,sep=',')\n",
        "  #Text file cant develope the whole data structure hence assuing the data set to be of the same format the column names are assigned in the from of a list \n",
        "  df.reset_index(drop=True, inplace=True)\n",
        "  df = df[['SKU','Current Price','Sales','Return','Loss','Stocks']]\n",
        "elif \"csv\" in address:\n",
        "  df = pd.read_csv(address,\n",
        "                   header = 0)\n",
        "print(\"Table output:\")\n",
        "print(df)\n",
        "print()\n",
        "print(\"Data Description:\")\n",
        "print(df.describe()) #Gives the mean,SD and normal distribution result for the input data\n",
        "print()\n",
        "\n",
        "#Stats Model to find all the data Coefficients\n",
        "x = df['Current Price']\n",
        "y = df['Sales']\n",
        "x2 = sm.add_constant(x)#Including all the exceptions\n",
        "ols = sm.OLS(y,x2)\n",
        "est = ols.fit() #Fitting the model with the variables given y,x2\n",
        "print(\"Stats Model Summary:\")\n",
        "print(est.summary())\n",
        "#Linear Regression to find the best metric to measure in the data\n",
        "x = df['Current Price'].values.reshape(-1,1) #Converting the dimension of the data for better calculation\n",
        "y = df['Sales'].values\n",
        "lr = LinearRegression(fit_intercept=True)\n",
        "lr.fit(x,y)\n",
        "y_pred = lr.predict(x)\n",
        "print(\"Linear Regression output\")\n",
        "print('Coeff =',lr.coef_) #Very important to get quality data\n",
        "print('Intercept =',lr.intercept_) \n",
        "print('R^2 =',lr.score(x,y)) #The error and the distance from the standard data which is 1\n",
        "print('Root MSE =',math.sqrt(metrics.mean_squared_error(y,y_pred)))\n",
        "print()\n",
        " #Shows the outlier and helps in finding the anamoly in the data \n",
        "df.plot(kind = 'scatter',\n",
        "        x = 'Current Price',\n",
        "        y = 'Sales',\n",
        "        color = 'red')\n",
        "print()\n",
        "print(\"Scatter Plot:\")\n",
        " #Being a numerical data and time based data the bar graph is used for finding the trend\n",
        "plt.title('CP vs Sales') #As the main data plotting is requried between the CP and the sales(as shown in the Regression too)\n",
        "plt.show()\n",
        "df.plot(kind = 'bar',\n",
        "        x = 'Current Price',\n",
        "        y = 'Sales',\n",
        "        color = 'green')\n",
        "print()\n",
        "print(\"Bar Graph:\")\n",
        "plt.title('CP Vs Sales')\n",
        "plt.show()\n",
        "ax = plt.gca() \n",
        "df.plot(kind = 'line',\n",
        "        x = 'SKU',\n",
        "        y = 'Current Price',\n",
        "        color = 'Blue',ax = ax)\n",
        "print(\"Line Plot:\")\n",
        "plt.show()\n"
      ]
    },
    {
      "cell_type": "code",
      "source": [],
      "metadata": {
        "id": "SGiqwbwAjIKU"
      },
      "execution_count": null,
      "outputs": []
    }
  ]
}